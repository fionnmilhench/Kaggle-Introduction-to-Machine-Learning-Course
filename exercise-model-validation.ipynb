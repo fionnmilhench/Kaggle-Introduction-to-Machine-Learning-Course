{
 "cells": [
  {
   "cell_type": "markdown",
   "id": "39c7de8f",
   "metadata": {
    "papermill": {
     "duration": 0.004134,
     "end_time": "2023-12-14T03:18:00.382457",
     "exception": false,
     "start_time": "2023-12-14T03:18:00.378323",
     "status": "completed"
    },
    "tags": []
   },
   "source": [
    "**This notebook is an exercise in the [Introduction to Machine Learning](https://www.kaggle.com/learn/intro-to-machine-learning) course.  You can reference the tutorial at [this link](https://www.kaggle.com/dansbecker/model-validation).**\n",
    "\n",
    "---\n"
   ]
  },
  {
   "cell_type": "markdown",
   "id": "fe1a6181",
   "metadata": {
    "papermill": {
     "duration": 0.003085,
     "end_time": "2023-12-14T03:18:00.389138",
     "exception": false,
     "start_time": "2023-12-14T03:18:00.386053",
     "status": "completed"
    },
    "tags": []
   },
   "source": [
    "## Recap\n",
    "You've built a model. In this exercise you will test how good your model is.\n",
    "\n",
    "Run the cell below to set up your coding environment where the previous exercise left off."
   ]
  },
  {
   "cell_type": "code",
   "execution_count": 1,
   "id": "e4244538",
   "metadata": {
    "execution": {
     "iopub.execute_input": "2023-12-14T03:18:00.397966Z",
     "iopub.status.busy": "2023-12-14T03:18:00.397411Z",
     "iopub.status.idle": "2023-12-14T03:18:02.696565Z",
     "shell.execute_reply": "2023-12-14T03:18:02.694971Z"
    },
    "papermill": {
     "duration": 2.306756,
     "end_time": "2023-12-14T03:18:02.699146",
     "exception": false,
     "start_time": "2023-12-14T03:18:00.392390",
     "status": "completed"
    },
    "tags": []
   },
   "outputs": [
    {
     "name": "stdout",
     "output_type": "stream",
     "text": [
      "First in-sample predictions: [208500. 181500. 223500. 140000. 250000.]\n",
      "Actual target values for those homes: [208500, 181500, 223500, 140000, 250000]\n",
      "Setup Complete\n"
     ]
    }
   ],
   "source": [
    "# Code you have previously used to load data\n",
    "import pandas as pd\n",
    "from sklearn.tree import DecisionTreeRegressor\n",
    "\n",
    "# Path of the file to read\n",
    "iowa_file_path = '../input/home-data-for-ml-course/train.csv'\n",
    "\n",
    "home_data = pd.read_csv(iowa_file_path)\n",
    "y = home_data.SalePrice\n",
    "feature_columns = ['LotArea', 'YearBuilt', '1stFlrSF', '2ndFlrSF', 'FullBath', 'BedroomAbvGr', 'TotRmsAbvGrd']\n",
    "X = home_data[feature_columns]\n",
    "\n",
    "# Specify Model\n",
    "iowa_model = DecisionTreeRegressor()\n",
    "# Fit Model\n",
    "iowa_model.fit(X, y)\n",
    "\n",
    "print(\"First in-sample predictions:\", iowa_model.predict(X.head()))\n",
    "print(\"Actual target values for those homes:\", y.head().tolist())\n",
    "\n",
    "# Set up code checking\n",
    "from learntools.core import binder\n",
    "binder.bind(globals())\n",
    "from learntools.machine_learning.ex4 import *\n",
    "print(\"Setup Complete\")"
   ]
  },
  {
   "cell_type": "markdown",
   "id": "6ea3e24a",
   "metadata": {
    "papermill": {
     "duration": 0.003205,
     "end_time": "2023-12-14T03:18:02.706168",
     "exception": false,
     "start_time": "2023-12-14T03:18:02.702963",
     "status": "completed"
    },
    "tags": []
   },
   "source": [
    "# Exercises\n",
    "\n",
    "## Step 1: Split Your Data\n",
    "Use the `train_test_split` function to split up your data.\n",
    "\n",
    "Give it the argument `random_state=1` so the `check` functions know what to expect when verifying your code.\n",
    "\n",
    "Recall, your features are loaded in the DataFrame **X** and your target is loaded in **y**.\n"
   ]
  },
  {
   "cell_type": "code",
   "execution_count": 2,
   "id": "1b6f0ef3",
   "metadata": {
    "execution": {
     "iopub.execute_input": "2023-12-14T03:18:02.715662Z",
     "iopub.status.busy": "2023-12-14T03:18:02.714491Z",
     "iopub.status.idle": "2023-12-14T03:18:02.725606Z",
     "shell.execute_reply": "2023-12-14T03:18:02.724763Z"
    },
    "papermill": {
     "duration": 0.018301,
     "end_time": "2023-12-14T03:18:02.728047",
     "exception": false,
     "start_time": "2023-12-14T03:18:02.709746",
     "status": "completed"
    },
    "tags": []
   },
   "outputs": [
    {
     "data": {
      "application/javascript": [
       "parent.postMessage({\"jupyterEvent\": \"custom.exercise_interaction\", \"data\": {\"outcomeType\": 1, \"valueTowardsCompletion\": 0.25, \"interactionType\": 1, \"questionType\": 2, \"questionId\": \"1_SplitData\", \"learnToolsVersion\": \"0.3.4\", \"failureMessage\": \"\", \"exceptionClass\": \"\", \"trace\": \"\"}}, \"*\")"
      ],
      "text/plain": [
       "<IPython.core.display.Javascript object>"
      ]
     },
     "metadata": {},
     "output_type": "display_data"
    },
    {
     "data": {
      "text/markdown": [
       "<span style=\"color:#33cc33\">Correct</span>"
      ],
      "text/plain": [
       "Correct"
      ]
     },
     "metadata": {},
     "output_type": "display_data"
    }
   ],
   "source": [
    "# Import the train_test_split function\n",
    "from sklearn.model_selection import train_test_split\n",
    "\n",
    "# Split the values\n",
    "train_X, val_X, train_y, val_y = train_test_split(X, y, random_state=1)\n",
    "\n",
    "# Check your answer\n",
    "step_1.check()"
   ]
  },
  {
   "cell_type": "markdown",
   "id": "f66eaaef",
   "metadata": {
    "papermill": {
     "duration": 0.003462,
     "end_time": "2023-12-14T03:18:02.735390",
     "exception": false,
     "start_time": "2023-12-14T03:18:02.731928",
     "status": "completed"
    },
    "tags": []
   },
   "source": [
    "## Step 2: Specify and Fit the Model\n",
    "\n",
    "Create a `DecisionTreeRegressor` model and fit it to the relevant data.\n",
    "Set `random_state` to 1 again when creating the model."
   ]
  },
  {
   "cell_type": "code",
   "execution_count": 3,
   "id": "e9c344f3",
   "metadata": {
    "execution": {
     "iopub.execute_input": "2023-12-14T03:18:02.744473Z",
     "iopub.status.busy": "2023-12-14T03:18:02.744112Z",
     "iopub.status.idle": "2023-12-14T03:18:02.770788Z",
     "shell.execute_reply": "2023-12-14T03:18:02.769009Z"
    },
    "papermill": {
     "duration": 0.033847,
     "end_time": "2023-12-14T03:18:02.772858",
     "exception": false,
     "start_time": "2023-12-14T03:18:02.739011",
     "status": "completed"
    },
    "tags": []
   },
   "outputs": [
    {
     "name": "stdout",
     "output_type": "stream",
     "text": [
      "[186500. 184000. 130000.  92000. 164500. 220000. 335000. 144152. 215000.\n",
      " 262000.]\n",
      "[186500. 184000. 130000.  92000. 164500. 220000. 335000. 144152. 215000.\n",
      " 262000.]\n"
     ]
    },
    {
     "data": {
      "application/javascript": [
       "parent.postMessage({\"jupyterEvent\": \"custom.exercise_interaction\", \"data\": {\"outcomeType\": 1, \"valueTowardsCompletion\": 0.25, \"interactionType\": 1, \"questionType\": 2, \"questionId\": \"2_FitModelWithTrain\", \"learnToolsVersion\": \"0.3.4\", \"failureMessage\": \"\", \"exceptionClass\": \"\", \"trace\": \"\"}}, \"*\")"
      ],
      "text/plain": [
       "<IPython.core.display.Javascript object>"
      ]
     },
     "metadata": {},
     "output_type": "display_data"
    },
    {
     "data": {
      "text/markdown": [
       "<span style=\"color:#33cc33\">Correct</span>"
      ],
      "text/plain": [
       "Correct"
      ]
     },
     "metadata": {},
     "output_type": "display_data"
    }
   ],
   "source": [
    "# Specify the model\n",
    "iowa_model = DecisionTreeRegressor(random_state=1)\n",
    "\n",
    "# Fit iowa_model with the training data.\n",
    "iowa_model.fit(train_X, train_y)\n",
    "\n",
    "# Check your answer\n",
    "step_2.check()"
   ]
  },
  {
   "cell_type": "markdown",
   "id": "0d029e2b",
   "metadata": {
    "papermill": {
     "duration": 0.004,
     "end_time": "2023-12-14T03:18:02.781509",
     "exception": false,
     "start_time": "2023-12-14T03:18:02.777509",
     "status": "completed"
    },
    "tags": []
   },
   "source": [
    "## Step 3: Make Predictions with Validation data\n"
   ]
  },
  {
   "cell_type": "code",
   "execution_count": 4,
   "id": "16e05c2d",
   "metadata": {
    "execution": {
     "iopub.execute_input": "2023-12-14T03:18:02.791414Z",
     "iopub.status.busy": "2023-12-14T03:18:02.790736Z",
     "iopub.status.idle": "2023-12-14T03:18:02.800167Z",
     "shell.execute_reply": "2023-12-14T03:18:02.799456Z"
    },
    "papermill": {
     "duration": 0.016514,
     "end_time": "2023-12-14T03:18:02.801848",
     "exception": false,
     "start_time": "2023-12-14T03:18:02.785334",
     "status": "completed"
    },
    "tags": []
   },
   "outputs": [
    {
     "data": {
      "application/javascript": [
       "parent.postMessage({\"jupyterEvent\": \"custom.exercise_interaction\", \"data\": {\"outcomeType\": 1, \"valueTowardsCompletion\": 0.25, \"interactionType\": 1, \"questionType\": 2, \"questionId\": \"3_ValPreds\", \"learnToolsVersion\": \"0.3.4\", \"failureMessage\": \"\", \"exceptionClass\": \"\", \"trace\": \"\"}}, \"*\")"
      ],
      "text/plain": [
       "<IPython.core.display.Javascript object>"
      ]
     },
     "metadata": {},
     "output_type": "display_data"
    },
    {
     "data": {
      "text/markdown": [
       "<span style=\"color:#33cc33\">Correct</span>"
      ],
      "text/plain": [
       "Correct"
      ]
     },
     "metadata": {},
     "output_type": "display_data"
    }
   ],
   "source": [
    "# Predict with all validation observations\n",
    "val_predictions = iowa_model.predict(val_X)\n",
    "\n",
    "# Check your answer\n",
    "step_3.check()"
   ]
  },
  {
   "cell_type": "markdown",
   "id": "b622ca73",
   "metadata": {
    "papermill": {
     "duration": 0.003723,
     "end_time": "2023-12-14T03:18:02.809912",
     "exception": false,
     "start_time": "2023-12-14T03:18:02.806189",
     "status": "completed"
    },
    "tags": []
   },
   "source": [
    "Inspect your predictions and actual values from validation data."
   ]
  },
  {
   "cell_type": "code",
   "execution_count": 5,
   "id": "f158a23a",
   "metadata": {
    "execution": {
     "iopub.execute_input": "2023-12-14T03:18:02.819849Z",
     "iopub.status.busy": "2023-12-14T03:18:02.818907Z",
     "iopub.status.idle": "2023-12-14T03:18:02.826406Z",
     "shell.execute_reply": "2023-12-14T03:18:02.825408Z"
    },
    "papermill": {
     "duration": 0.014993,
     "end_time": "2023-12-14T03:18:02.828736",
     "exception": false,
     "start_time": "2023-12-14T03:18:02.813743",
     "status": "completed"
    },
    "tags": []
   },
   "outputs": [
    {
     "name": "stdout",
     "output_type": "stream",
     "text": [
      "[186500. 184000. 130000.  92000. 164500.]\n",
      "258     231500\n",
      "267     179500\n",
      "288     122000\n",
      "649      84500\n",
      "1233    142000\n",
      "Name: SalePrice, dtype: int64\n"
     ]
    }
   ],
   "source": [
    "# print the top few validation predictions\n",
    "print(val_predictions[:5])\n",
    "# print the top few actual prices from validation data\n",
    "print(val_y[:5])"
   ]
  },
  {
   "cell_type": "markdown",
   "id": "55363696",
   "metadata": {
    "papermill": {
     "duration": 0.00386,
     "end_time": "2023-12-14T03:18:02.836992",
     "exception": false,
     "start_time": "2023-12-14T03:18:02.833132",
     "status": "completed"
    },
    "tags": []
   },
   "source": [
    "What do you notice that is different from what you saw with in-sample predictions (which are printed after the top code cell in this page).\n",
    "\n",
    "Do you remember why validation predictions differ from in-sample (or training) predictions? This is an important idea from the last lesson.\n",
    "\n",
    "*The out of sample predictions are significantly less accurate than the in-sample predictions (as expected), but they are roughly accurate, that is to say that they are within a rough region of what we might expect)*\n",
    "\n",
    "## Step 4: Calculate the Mean Absolute Error in Validation Data\n"
   ]
  },
  {
   "cell_type": "code",
   "execution_count": 6,
   "id": "65c046a9",
   "metadata": {
    "execution": {
     "iopub.execute_input": "2023-12-14T03:18:02.847179Z",
     "iopub.status.busy": "2023-12-14T03:18:02.846792Z",
     "iopub.status.idle": "2023-12-14T03:18:02.857960Z",
     "shell.execute_reply": "2023-12-14T03:18:02.857053Z"
    },
    "papermill": {
     "duration": 0.01888,
     "end_time": "2023-12-14T03:18:02.860161",
     "exception": false,
     "start_time": "2023-12-14T03:18:02.841281",
     "status": "completed"
    },
    "tags": []
   },
   "outputs": [
    {
     "name": "stdout",
     "output_type": "stream",
     "text": [
      "29652.931506849316\n"
     ]
    },
    {
     "data": {
      "application/javascript": [
       "parent.postMessage({\"jupyterEvent\": \"custom.exercise_interaction\", \"data\": {\"outcomeType\": 1, \"valueTowardsCompletion\": 0.25, \"interactionType\": 1, \"questionType\": 1, \"questionId\": \"4_MAE\", \"learnToolsVersion\": \"0.3.4\", \"failureMessage\": \"\", \"exceptionClass\": \"\", \"trace\": \"\"}}, \"*\")"
      ],
      "text/plain": [
       "<IPython.core.display.Javascript object>"
      ]
     },
     "metadata": {},
     "output_type": "display_data"
    },
    {
     "data": {
      "text/markdown": [
       "<span style=\"color:#33cc33\">Correct</span>"
      ],
      "text/plain": [
       "Correct"
      ]
     },
     "metadata": {},
     "output_type": "display_data"
    }
   ],
   "source": [
    "from sklearn.metrics import mean_absolute_error\n",
    "val_mae = mean_absolute_error(val_y, val_predictions)\n",
    "\n",
    "# uncomment following line to see the validation_mae\n",
    "print(val_mae)\n",
    "\n",
    "# Check your answer\n",
    "step_4.check()"
   ]
  },
  {
   "cell_type": "markdown",
   "id": "4180f3a9",
   "metadata": {
    "papermill": {
     "duration": 0.004364,
     "end_time": "2023-12-14T03:18:02.869333",
     "exception": false,
     "start_time": "2023-12-14T03:18:02.864969",
     "status": "completed"
    },
    "tags": []
   },
   "source": [
    "Is that MAE good?  There isn't a general rule for what values are good that applies across applications. But you'll see how to use (and improve) this number in the next step.\n",
    "\n",
    "*It would seem it's not great, given that we're dealing with a lot of houses that are around the 100-200k mark, this represents a ~15-30% error*\n",
    "\n",
    "# Keep Going\n",
    "\n",
    "You are ready for **[Underfitting and Overfitting](https://www.kaggle.com/dansbecker/underfitting-and-overfitting).**\n"
   ]
  },
  {
   "cell_type": "markdown",
   "id": "e904b5b7",
   "metadata": {
    "papermill": {
     "duration": 0.005114,
     "end_time": "2023-12-14T03:18:02.879832",
     "exception": false,
     "start_time": "2023-12-14T03:18:02.874718",
     "status": "completed"
    },
    "tags": []
   },
   "source": [
    "---\n",
    "\n",
    "\n",
    "\n",
    "\n",
    "*Have questions or comments? Visit the [course discussion forum](https://www.kaggle.com/learn/intro-to-machine-learning/discussion) to chat with other learners.*"
   ]
  }
 ],
 "metadata": {
  "kaggle": {
   "accelerator": "none",
   "dataSources": [
    {
     "databundleVersionId": 111096,
     "sourceId": 10211,
     "sourceType": "competition"
    },
    {
     "datasetId": 11167,
     "sourceId": 15520,
     "sourceType": "datasetVersion"
    },
    {
     "datasetId": 2709,
     "sourceId": 38454,
     "sourceType": "datasetVersion"
    }
   ],
   "isGpuEnabled": false,
   "isInternetEnabled": false,
   "language": "python",
   "sourceType": "notebook"
  },
  "kernelspec": {
   "display_name": "Python 3",
   "language": "python",
   "name": "python3"
  },
  "language_info": {
   "codemirror_mode": {
    "name": "ipython",
    "version": 3
   },
   "file_extension": ".py",
   "mimetype": "text/x-python",
   "name": "python",
   "nbconvert_exporter": "python",
   "pygments_lexer": "ipython3",
   "version": "3.10.12"
  },
  "papermill": {
   "default_parameters": {},
   "duration": 5.944687,
   "end_time": "2023-12-14T03:18:03.507420",
   "environment_variables": {},
   "exception": null,
   "input_path": "__notebook__.ipynb",
   "output_path": "__notebook__.ipynb",
   "parameters": {},
   "start_time": "2023-12-14T03:17:57.562733",
   "version": "2.4.0"
  }
 },
 "nbformat": 4,
 "nbformat_minor": 5
}
